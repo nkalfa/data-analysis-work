{
 "cells": [
  {
   "cell_type": "markdown",
   "metadata": {},
   "source": [
    "## Analyze A/B Test Results\n",
    "\n",
    "This project will assure you have mastered the subjects covered in the statistics lessons.  The hope is to have this project be as comprehensive of these topics as possible.  Good luck!\n",
    "\n",
    "## Table of Contents\n",
    "- [Introduction](#intro)\n",
    "- [Part I - Probability](#probability)\n",
    "- [Part II - A/B Test](#ab_test)\n",
    "- [Part III - Regression](#regression)\n",
    "\n",
    "\n",
    "<a id='intro'></a>\n",
    "### Introduction\n",
    "\n",
    "A/B tests are very commonly performed by data analysts and data scientists.  It is important that you get some practice working with the difficulties of these \n",
    "\n",
    "For this project, you will be working to understand the results of an A/B test run by an e-commerce website.  Your goal is to work through this notebook to help the company understand if they should implement the new page, keep the old page, or perhaps run the experiment longer to make their decision.\n",
    "\n",
    "**As you work through this notebook, follow along in the classroom and answer the corresponding quiz questions associated with each question.** The labels for each classroom concept are provided for each question.  This will assure you are on the right track as you work through the project, and you can feel more confident in your final submission meeting the criteria.  As a final check, assure you meet all the criteria on the [RUBRIC](https://review.udacity.com/#!/projects/37e27304-ad47-4eb0-a1ab-8c12f60e43d0/rubric).\n",
    "\n",
    "<a id='probability'></a>\n",
    "#### Part I - Probability\n",
    "\n",
    "To get started, let's import our libraries."
   ]
  },
  {
   "cell_type": "code",
   "execution_count": 59,
   "metadata": {},
   "outputs": [],
   "source": [
    "import matplotlib.pyplot as plt\n",
    "import missingno as ms\n",
    "import numpy as np\n",
    "import pandas as pd\n",
    "import random\n",
    "import seaborn as sns\n",
    "\n",
    "%matplotlib inline\n",
    "sns.set_theme()\n",
    "\n",
    "#We are setting the seed to assure you get the same answers on quizzes as we set up\n",
    "random.seed(42)"
   ]
  },
  {
   "cell_type": "markdown",
   "metadata": {},
   "source": [
    "`1.` Now, read in the `ab_data.csv` data. Store it in `df`.  **Use your dataframe to answer the questions in Quiz 1 of the classroom.**\n",
    "\n",
    "a. Read in the dataset and take a look at the top few rows here:"
   ]
  },
  {
   "cell_type": "code",
   "execution_count": 60,
   "metadata": {},
   "outputs": [
    {
     "data": {
      "text/html": [
       "<div>\n",
       "<style scoped>\n",
       "    .dataframe tbody tr th:only-of-type {\n",
       "        vertical-align: middle;\n",
       "    }\n",
       "\n",
       "    .dataframe tbody tr th {\n",
       "        vertical-align: top;\n",
       "    }\n",
       "\n",
       "    .dataframe thead th {\n",
       "        text-align: right;\n",
       "    }\n",
       "</style>\n",
       "<table border=\"1\" class=\"dataframe\">\n",
       "  <thead>\n",
       "    <tr style=\"text-align: right;\">\n",
       "      <th></th>\n",
       "      <th>user_id</th>\n",
       "      <th>timestamp</th>\n",
       "      <th>group</th>\n",
       "      <th>landing_page</th>\n",
       "      <th>converted</th>\n",
       "    </tr>\n",
       "  </thead>\n",
       "  <tbody>\n",
       "    <tr>\n",
       "      <th>0</th>\n",
       "      <td>851104</td>\n",
       "      <td>2017-01-21 22:11:48.556739</td>\n",
       "      <td>control</td>\n",
       "      <td>old_page</td>\n",
       "      <td>0</td>\n",
       "    </tr>\n",
       "    <tr>\n",
       "      <th>1</th>\n",
       "      <td>804228</td>\n",
       "      <td>2017-01-12 08:01:45.159739</td>\n",
       "      <td>control</td>\n",
       "      <td>old_page</td>\n",
       "      <td>0</td>\n",
       "    </tr>\n",
       "    <tr>\n",
       "      <th>2</th>\n",
       "      <td>661590</td>\n",
       "      <td>2017-01-11 16:55:06.154213</td>\n",
       "      <td>treatment</td>\n",
       "      <td>new_page</td>\n",
       "      <td>0</td>\n",
       "    </tr>\n",
       "    <tr>\n",
       "      <th>3</th>\n",
       "      <td>853541</td>\n",
       "      <td>2017-01-08 18:28:03.143765</td>\n",
       "      <td>treatment</td>\n",
       "      <td>new_page</td>\n",
       "      <td>0</td>\n",
       "    </tr>\n",
       "    <tr>\n",
       "      <th>4</th>\n",
       "      <td>864975</td>\n",
       "      <td>2017-01-21 01:52:26.210827</td>\n",
       "      <td>control</td>\n",
       "      <td>old_page</td>\n",
       "      <td>1</td>\n",
       "    </tr>\n",
       "  </tbody>\n",
       "</table>\n",
       "</div>"
      ],
      "text/plain": [
       "   user_id                   timestamp      group landing_page  converted\n",
       "0   851104  2017-01-21 22:11:48.556739    control     old_page          0\n",
       "1   804228  2017-01-12 08:01:45.159739    control     old_page          0\n",
       "2   661590  2017-01-11 16:55:06.154213  treatment     new_page          0\n",
       "3   853541  2017-01-08 18:28:03.143765  treatment     new_page          0\n",
       "4   864975  2017-01-21 01:52:26.210827    control     old_page          1"
      ]
     },
     "execution_count": 60,
     "metadata": {},
     "output_type": "execute_result"
    }
   ],
   "source": [
    "df = pd.read_csv('ab_data.csv')\n",
    "\n",
    "df.head()"
   ]
  },
  {
   "cell_type": "markdown",
   "metadata": {},
   "source": [
    "b. Use the below cell to find the number of rows in the dataset."
   ]
  },
  {
   "cell_type": "code",
   "execution_count": 61,
   "metadata": {},
   "outputs": [
    {
     "data": {
      "text/plain": [
       "(294478, 5)"
      ]
     },
     "execution_count": 61,
     "metadata": {},
     "output_type": "execute_result"
    }
   ],
   "source": [
    "df.shape"
   ]
  },
  {
   "cell_type": "markdown",
   "metadata": {},
   "source": [
    "c. The number of unique users in the dataset."
   ]
  },
  {
   "cell_type": "code",
   "execution_count": 62,
   "metadata": {},
   "outputs": [
    {
     "data": {
      "text/plain": [
       "290584"
      ]
     },
     "execution_count": 62,
     "metadata": {},
     "output_type": "execute_result"
    }
   ],
   "source": [
    "df.user_id.nunique()"
   ]
  },
  {
   "cell_type": "markdown",
   "metadata": {
    "collapsed": true
   },
   "source": [
    "d. The proportion of users converted."
   ]
  },
  {
   "cell_type": "code",
   "execution_count": 63,
   "metadata": {},
   "outputs": [
    {
     "data": {
      "text/plain": [
       "12"
      ]
     },
     "execution_count": 63,
     "metadata": {},
     "output_type": "execute_result"
    }
   ],
   "source": [
    " round(df.converted.mean() * 100)"
   ]
  },
  {
   "cell_type": "markdown",
   "metadata": {
    "collapsed": true
   },
   "source": [
    "e. The number of times the `new_page` and `treatment` don't line up."
   ]
  },
  {
   "cell_type": "code",
   "execution_count": 64,
   "metadata": {},
   "outputs": [
    {
     "data": {
      "text/plain": [
       "3893"
      ]
     },
     "execution_count": 64,
     "metadata": {},
     "output_type": "execute_result"
    }
   ],
   "source": [
    "new_page = len(df.query('group == \"treatment\" & landing_page != \"new_page\"'))\n",
    "no_new_page = len(df.query('group != \"treatment\" & landing_page == \"new_page\"'))\n",
    "                \n",
    "no_alignment = new_page + no_new_page\n",
    "no_alignment"
   ]
  },
  {
   "cell_type": "markdown",
   "metadata": {},
   "source": [
    "f. Do any of the rows have missing values?"
   ]
  },
  {
   "cell_type": "code",
   "execution_count": 65,
   "metadata": {},
   "outputs": [
    {
     "data": {
      "text/plain": [
       "user_id         0\n",
       "timestamp       0\n",
       "group           0\n",
       "landing_page    0\n",
       "converted       0\n",
       "dtype: int64"
      ]
     },
     "execution_count": 65,
     "metadata": {},
     "output_type": "execute_result"
    }
   ],
   "source": [
    "df.isnull().sum()"
   ]
  },
  {
   "cell_type": "code",
   "execution_count": 66,
   "metadata": {},
   "outputs": [
    {
     "data": {
      "text/plain": [
       "<AxesSubplot:>"
      ]
     },
     "execution_count": 66,
     "metadata": {},
     "output_type": "execute_result"
    },
    {
     "data": {
      "image/png": "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\n",
      "text/plain": [
       "<Figure size 1800x720 with 2 Axes>"
      ]
     },
     "metadata": {},
     "output_type": "display_data"
    }
   ],
   "source": [
    "# Visualise the missing values\n",
    "ms.matrix(df)"
   ]
  },
  {
   "cell_type": "markdown",
   "metadata": {},
   "source": [
    "`2.` For the rows where **treatment** is not aligned with **new_page** or **control** is not aligned with **old_page**, we cannot be sure if this row truly received the new or old page.  Use **Quiz 2** in the classroom to provide how we should handle these rows.  \n",
    "\n",
    "a. Now use the answer to the quiz to create a new dataset that meets the specifications from the quiz.  Store your new dataframe in **df2**."
   ]
  },
  {
   "cell_type": "code",
   "execution_count": 67,
   "metadata": {},
   "outputs": [],
   "source": [
    "df2 = df.drop(df[((df.group == 'control') & (df.landing_page == 'new_page')) | \\\n",
    "                 ((df.group == 'treatment') & (df.landing_page == 'old_page'))].index)"
   ]
  },
  {
   "cell_type": "code",
   "execution_count": 68,
   "metadata": {},
   "outputs": [
    {
     "data": {
      "text/plain": [
       "0"
      ]
     },
     "execution_count": 68,
     "metadata": {},
     "output_type": "execute_result"
    }
   ],
   "source": [
    "# Double Check all of the correct rows were removed - this should be 0\n",
    "df2[((df2['group'] == 'treatment') == (df2['landing_page'] == 'new_page')) == False].shape[0]"
   ]
  },
  {
   "cell_type": "markdown",
   "metadata": {},
   "source": [
    "`3.` Use **df2** and the cells below to answer questions for **Quiz3** in the classroom."
   ]
  },
  {
   "cell_type": "markdown",
   "metadata": {},
   "source": [
    "a. How many unique **user_id**s are in **df2**?"
   ]
  },
  {
   "cell_type": "code",
   "execution_count": 69,
   "metadata": {},
   "outputs": [
    {
     "data": {
      "text/plain": [
       "290584"
      ]
     },
     "execution_count": 69,
     "metadata": {},
     "output_type": "execute_result"
    }
   ],
   "source": [
    "df2.user_id.nunique()"
   ]
  },
  {
   "cell_type": "markdown",
   "metadata": {
    "collapsed": true
   },
   "source": [
    "b. There is one **user_id** repeated in **df2**.  What is it?"
   ]
  },
  {
   "cell_type": "code",
   "execution_count": 70,
   "metadata": {},
   "outputs": [
    {
     "data": {
      "text/plain": [
       "2893    773192\n",
       "Name: user_id, dtype: int64"
      ]
     },
     "execution_count": 70,
     "metadata": {},
     "output_type": "execute_result"
    }
   ],
   "source": [
    "dup = df2[df2['user_id'].duplicated()]['user_id']\n",
    "dup"
   ]
  },
  {
   "cell_type": "markdown",
   "metadata": {},
   "source": [
    "c. What is the row information for the repeat **user_id**? "
   ]
  },
  {
   "cell_type": "code",
   "execution_count": 71,
   "metadata": {},
   "outputs": [
    {
     "data": {
      "text/html": [
       "<div>\n",
       "<style scoped>\n",
       "    .dataframe tbody tr th:only-of-type {\n",
       "        vertical-align: middle;\n",
       "    }\n",
       "\n",
       "    .dataframe tbody tr th {\n",
       "        vertical-align: top;\n",
       "    }\n",
       "\n",
       "    .dataframe thead th {\n",
       "        text-align: right;\n",
       "    }\n",
       "</style>\n",
       "<table border=\"1\" class=\"dataframe\">\n",
       "  <thead>\n",
       "    <tr style=\"text-align: right;\">\n",
       "      <th></th>\n",
       "      <th>user_id</th>\n",
       "      <th>timestamp</th>\n",
       "      <th>group</th>\n",
       "      <th>landing_page</th>\n",
       "      <th>converted</th>\n",
       "    </tr>\n",
       "  </thead>\n",
       "  <tbody>\n",
       "    <tr>\n",
       "      <th>1899</th>\n",
       "      <td>773192</td>\n",
       "      <td>2017-01-09 05:37:58.781806</td>\n",
       "      <td>treatment</td>\n",
       "      <td>new_page</td>\n",
       "      <td>0</td>\n",
       "    </tr>\n",
       "    <tr>\n",
       "      <th>2893</th>\n",
       "      <td>773192</td>\n",
       "      <td>2017-01-14 02:55:59.590927</td>\n",
       "      <td>treatment</td>\n",
       "      <td>new_page</td>\n",
       "      <td>0</td>\n",
       "    </tr>\n",
       "  </tbody>\n",
       "</table>\n",
       "</div>"
      ],
      "text/plain": [
       "      user_id                   timestamp      group landing_page  converted\n",
       "1899   773192  2017-01-09 05:37:58.781806  treatment     new_page          0\n",
       "2893   773192  2017-01-14 02:55:59.590927  treatment     new_page          0"
      ]
     },
     "execution_count": 71,
     "metadata": {},
     "output_type": "execute_result"
    }
   ],
   "source": [
    "df2[df2['user_id'] == dup.iloc[0]]"
   ]
  },
  {
   "cell_type": "markdown",
   "metadata": {},
   "source": [
    "d. Remove **one** of the rows with a duplicate **user_id**, but keep your dataframe as **df2**."
   ]
  },
  {
   "cell_type": "code",
   "execution_count": 72,
   "metadata": {},
   "outputs": [
    {
     "data": {
      "text/plain": [
       "(290584, 5)"
      ]
     },
     "execution_count": 72,
     "metadata": {},
     "output_type": "execute_result"
    }
   ],
   "source": [
    "df2.drop_duplicates(['user_id'], inplace=True)\n",
    "\n",
    "df2.shape"
   ]
  },
  {
   "cell_type": "markdown",
   "metadata": {},
   "source": [
    "`4.` Use **df2** in the below cells to answer the quiz questions related to **Quiz 4** in the classroom.\n",
    "\n",
    "a. What is the probability of an individual converting regardless of the page they receive?"
   ]
  },
  {
   "cell_type": "code",
   "execution_count": 73,
   "metadata": {},
   "outputs": [
    {
     "data": {
      "text/plain": [
       "0.11959708724499628"
      ]
     },
     "execution_count": 73,
     "metadata": {},
     "output_type": "execute_result"
    }
   ],
   "source": [
    "df2['converted'].mean()"
   ]
  },
  {
   "cell_type": "markdown",
   "metadata": {},
   "source": [
    "b. Given that an individual was in the `control` group, what is the probability they converted?"
   ]
  },
  {
   "cell_type": "code",
   "execution_count": 74,
   "metadata": {},
   "outputs": [
    {
     "data": {
      "text/plain": [
       "0.1203863045004612"
      ]
     },
     "execution_count": 74,
     "metadata": {},
     "output_type": "execute_result"
    }
   ],
   "source": [
    "df2.query('group == \"control\"').converted.mean()"
   ]
  },
  {
   "cell_type": "markdown",
   "metadata": {},
   "source": [
    "c. Given that an individual was in the `treatment` group, what is the probability they converted?"
   ]
  },
  {
   "cell_type": "code",
   "execution_count": 75,
   "metadata": {},
   "outputs": [
    {
     "data": {
      "text/plain": [
       "0.11880806551510564"
      ]
     },
     "execution_count": 75,
     "metadata": {},
     "output_type": "execute_result"
    }
   ],
   "source": [
    "df2.query('group == \"treatment\"').converted.mean()"
   ]
  },
  {
   "cell_type": "markdown",
   "metadata": {},
   "source": [
    "d. What is the probability that an individual received the new page?"
   ]
  },
  {
   "cell_type": "code",
   "execution_count": 76,
   "metadata": {},
   "outputs": [
    {
     "data": {
      "text/plain": [
       "0.5000619442226688"
      ]
     },
     "execution_count": 76,
     "metadata": {},
     "output_type": "execute_result"
    }
   ],
   "source": [
    "len(df2[df2['landing_page'] == 'new_page']) / len(df2)"
   ]
  },
  {
   "cell_type": "markdown",
   "metadata": {},
   "source": [
    "e. Consider your results from a. through d. above, and explain below whether you think there is sufficient evidence to say that the new treatment page leads to more conversions."
   ]
  },
  {
   "cell_type": "markdown",
   "metadata": {},
   "source": [
    "**Response**\n",
    "\n",
    "When we compare the percentages of converted users between the control group (12.04%) and the treatment group (11.88%) we can see there is a negligible difference.\n",
    "Since we do not have data on factors that might have contributed to these results (such as test time duration or change resistance), to provide a more meaningful analysis on whether we should keep the old page or create a new one we should:\n",
    "- Define the test hypothesis\n",
    "- Calculate  **$p_{old}$**  and  **$p_{new}$** \n",
    "\n"
   ]
  },
  {
   "cell_type": "markdown",
   "metadata": {},
   "source": [
    "<a id='ab_test'></a>\n",
    "### Part II - A/B Test\n",
    "\n",
    "Notice that because of the time stamp associated with each event, you could technically run a hypothesis test continuously as each observation was observed.  \n",
    "\n",
    "However, then the hard question is do you stop as soon as one page is considered significantly better than another or does it need to happen consistently for a certain amount of time?  How long do you run to render a decision that neither page is better than another?  \n",
    "\n",
    "These questions are the difficult parts associated with A/B tests in general.  \n",
    "\n",
    "\n",
    "`1.` For now, consider you need to make the decision just based on all the data provided.  If you want to assume that the old page is better unless the new page proves to be definitely better at a Type I error rate of 5%, what should your null and alternative hypotheses be?  You can state your hypothesis in terms of words or in terms of **$p_{old}$** and **$p_{new}$**, which are the converted rates for the old and new pages."
   ]
  },
  {
   "cell_type": "markdown",
   "metadata": {},
   "source": [
    "**Response**\n",
    "\n",
    "My null hypothesis and alternative hypothesis are:\n",
    "\n",
    "$H_{0}$ : $p_{new}$ - $p_{old}$ <= 0\n",
    "\n",
    "$H_{1}$ : $p_{new}$ - $p_{old}$ > 0"
   ]
  },
  {
   "cell_type": "markdown",
   "metadata": {},
   "source": [
    "`2.` Assume under the null hypothesis, $p_{new}$ and $p_{old}$ both have \"true\" success rates equal to the **converted** success rate regardless of page - that is $p_{new}$ and $p_{old}$ are equal. Furthermore, assume they are equal to the **converted** rate in **ab_data.csv** regardless of the page. <br><br>\n",
    "\n",
    "Use a sample size for each page equal to the ones in **ab_data.csv**.  <br><br>\n",
    "\n",
    "Perform the sampling distribution for the difference in **converted** between the two pages over 10,000 iterations of calculating an estimate from the null.  <br><br>\n",
    "\n",
    "Use the cells below to provide the necessary parts of this simulation.  If this doesn't make complete sense right now, don't worry - you are going to work through the problems below to complete this problem.  You can use **Quiz 5** in the classroom to make sure you are on the right track.<br><br>"
   ]
  },
  {
   "cell_type": "markdown",
   "metadata": {},
   "source": [
    "a. What is the **convert rate** for $p_{new}$ under the null? "
   ]
  },
  {
   "cell_type": "code",
   "execution_count": 77,
   "metadata": {},
   "outputs": [
    {
     "data": {
      "text/plain": [
       "0.11959708724499628"
      ]
     },
     "execution_count": 77,
     "metadata": {},
     "output_type": "execute_result"
    }
   ],
   "source": [
    "p_new = df2.converted.mean()\n",
    "p_new"
   ]
  },
  {
   "cell_type": "markdown",
   "metadata": {},
   "source": [
    "b. What is the **convert rate** for $p_{old}$ under the null? <br><br>"
   ]
  },
  {
   "cell_type": "code",
   "execution_count": 78,
   "metadata": {},
   "outputs": [
    {
     "data": {
      "text/plain": [
       "0.11959708724499628"
      ]
     },
     "execution_count": 78,
     "metadata": {},
     "output_type": "execute_result"
    }
   ],
   "source": [
    "p_old = df2.converted.mean()\n",
    "p_old"
   ]
  },
  {
   "cell_type": "markdown",
   "metadata": {},
   "source": [
    "c. What is $n_{new}$?"
   ]
  },
  {
   "cell_type": "code",
   "execution_count": 79,
   "metadata": {},
   "outputs": [
    {
     "data": {
      "text/plain": [
       "145310"
      ]
     },
     "execution_count": 79,
     "metadata": {},
     "output_type": "execute_result"
    }
   ],
   "source": [
    "n_new = df2[df2['landing_page'] == 'new_page']['landing_page'].count()\n",
    "n_new"
   ]
  },
  {
   "cell_type": "markdown",
   "metadata": {},
   "source": [
    "d. What is $n_{old}$?"
   ]
  },
  {
   "cell_type": "code",
   "execution_count": 80,
   "metadata": {},
   "outputs": [
    {
     "data": {
      "text/plain": [
       "145274"
      ]
     },
     "execution_count": 80,
     "metadata": {},
     "output_type": "execute_result"
    }
   ],
   "source": [
    "n_old = df2[df2['landing_page'] == 'old_page']['landing_page'].count()\n",
    "n_old"
   ]
  },
  {
   "cell_type": "markdown",
   "metadata": {},
   "source": [
    "e. Simulate $n_{new}$ transactions with a convert rate of $p_{new}$ under the null.  Store these $n_{new}$ 1's and 0's in **new_page_converted**."
   ]
  },
  {
   "cell_type": "code",
   "execution_count": 81,
   "metadata": {},
   "outputs": [
    {
     "data": {
      "text/plain": [
       "array([0, 0, 0, ..., 0, 0, 0])"
      ]
     },
     "execution_count": 81,
     "metadata": {},
     "output_type": "execute_result"
    }
   ],
   "source": [
    "new_page_converted = np.random.binomial(1, p_new, n_new)\n",
    "new_page_converted"
   ]
  },
  {
   "cell_type": "markdown",
   "metadata": {},
   "source": [
    "f. Simulate $n_{old}$ transactions with a convert rate of $p_{old}$ under the null.  Store these $n_{old}$ 1's and 0's in **old_page_converted**."
   ]
  },
  {
   "cell_type": "code",
   "execution_count": 82,
   "metadata": {},
   "outputs": [
    {
     "data": {
      "text/plain": [
       "array([0, 0, 0, ..., 0, 0, 0])"
      ]
     },
     "execution_count": 82,
     "metadata": {},
     "output_type": "execute_result"
    }
   ],
   "source": [
    "old_page_converted = np.random.binomial(1, p_old, n_old)\n",
    "old_page_converted"
   ]
  },
  {
   "cell_type": "markdown",
   "metadata": {},
   "source": [
    "g. Find $p_{new}$ - $p_{old}$ for your simulated values from part (e) and (f)."
   ]
  },
  {
   "cell_type": "code",
   "execution_count": 83,
   "metadata": {},
   "outputs": [
    {
     "data": {
      "text/plain": [
       "-0.0002638231176817635"
      ]
     },
     "execution_count": 83,
     "metadata": {},
     "output_type": "execute_result"
    }
   ],
   "source": [
    "new_page_converted.mean() - old_page_converted.mean()"
   ]
  },
  {
   "cell_type": "markdown",
   "metadata": {},
   "source": [
    "h. Simulate 10,000 $p_{new}$ - $p_{old}$ values using this same process similarly to the one you calculated in parts **a. through g.** above.  Store all 10,000 values in a numpy array called **p_diffs**."
   ]
  },
  {
   "cell_type": "code",
   "execution_count": 84,
   "metadata": {},
   "outputs": [],
   "source": [
    "new_converted = np.random.binomial(n_new, p_new, 10000) / n_new\n",
    "old_converted = np.random.binomial(n_old, p_old, 10000)  / n_old\n",
    "\n",
    "p_diffs = []\n",
    "for new, old in zip(new_converted, old_converted):\n",
    "    p_diffs.append(new - old)"
   ]
  },
  {
   "cell_type": "markdown",
   "metadata": {},
   "source": [
    "i. Plot a histogram of the **p_diffs**.  Does this plot look like what you expected?  Use the matching problem in the classroom to assure you fully understand what was computed here."
   ]
  },
  {
   "cell_type": "code",
   "execution_count": 85,
   "metadata": {},
   "outputs": [
    {
     "data": {
      "text/plain": [
       "Text(0, 0.5, 'Count')"
      ]
     },
     "execution_count": 85,
     "metadata": {},
     "output_type": "execute_result"
    },
    {
     "data": {
      "image/png": "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\n",
      "text/plain": [
       "<Figure size 432x288 with 1 Axes>"
      ]
     },
     "metadata": {},
     "output_type": "display_data"
    }
   ],
   "source": [
    "plt.hist(old_converted, alpha=0.3, color='cyan')\n",
    "plt.hist(new_converted, alpha=0.3, color='blue')\n",
    "plt.title('p_diffs Graph')\n",
    "plt.xlabel('Page differences')\n",
    "plt.ylabel('Count') "
   ]
  },
  {
   "cell_type": "markdown",
   "metadata": {},
   "source": [
    "j. What proportion of the **p_diffs** are greater than the actual difference observed in **ab_data.csv**?"
   ]
  },
  {
   "cell_type": "code",
   "execution_count": 86,
   "metadata": {},
   "outputs": [
    {
     "data": {
      "text/plain": [
       "0.9059"
      ]
     },
     "execution_count": 86,
     "metadata": {},
     "output_type": "execute_result"
    }
   ],
   "source": [
    "real_diff = df2.query('landing_page == \"new_page\"').converted.mean() - \\\n",
    "                       df2.query('landing_page == \"old_page\"').converted.mean()\n",
    "(p_diffs > real_diff).mean()"
   ]
  },
  {
   "cell_type": "markdown",
   "metadata": {},
   "source": [
    "k. In words, explain what you just computed in part **j.**  What is this value called in scientific studies?  What does this value mean in terms of whether or not there is a difference between the new and old pages?"
   ]
  },
  {
   "cell_type": "markdown",
   "metadata": {},
   "source": [
    "**RESPONSE**\n",
    ">The value we calculated is called the p-value. The p-value of 0.9 demonstrates that given that the null hypothesis is true, there is 90% probability of observing our conversion difference. Since it appears that the p-value is above 0.05, we do not have sufficient evidence to reject the null hypothesis **$p_{old}$**  =  **$p_{new}$**. Consequently, we should keep the old page as the effort that would go into building a new one is not comensurate with the degree of positive change we would hope to see."
   ]
  },
  {
   "cell_type": "markdown",
   "metadata": {},
   "source": [
    "l. We could also use a built-in to achieve similar results.  Though using the built-in might be easier to code, the above portions are a walkthrough of the ideas that are critical to correctly thinking about statistical significance. Fill in the below to calculate the number of conversions for each page, as well as the number of individuals who received each page. Let `n_old` and `n_new` refer the the number of rows associated with the old page and new pages, respectively."
   ]
  },
  {
   "cell_type": "code",
   "execution_count": 87,
   "metadata": {},
   "outputs": [
    {
     "data": {
      "text/plain": [
       "(17489, 17264, 145274, 145310)"
      ]
     },
     "execution_count": 87,
     "metadata": {},
     "output_type": "execute_result"
    }
   ],
   "source": [
    "import statsmodels.api as sm\n",
    "from scipy.stats import norm\n",
    "\n",
    "convert_old = df2.query('(converted == 1) and (group == \"control\")').count()[0]\n",
    "convert_new = df2.query('(converted == 1) and (group == \"treatment\")').count()[0]\n",
    "n_old = df2.query('group == \"control\"').count()[1]\n",
    "n_new = df2.query('group == \"treatment\"').count()[0]\n",
    "convert_old, convert_new, n_old, n_new"
   ]
  },
  {
   "cell_type": "markdown",
   "metadata": {},
   "source": [
    "m. Now use `stats.proportions_ztest` to compute your test statistic and p-value.  [Here](http://knowledgetack.com/python/statsmodels/proportions_ztest/) is a helpful link on using the built in."
   ]
  },
  {
   "cell_type": "code",
   "execution_count": 88,
   "metadata": {},
   "outputs": [
    {
     "name": "stdout",
     "output_type": "stream",
     "text": [
      "z-score: -1.3109241984234394 p-value: 0.9050583127590245\n"
     ]
    }
   ],
   "source": [
    "z_score, p_value = sm.stats.proportions_ztest \\\n",
    "([convert_new, convert_old], [n_new, n_old], alternative='larger')\n",
    "\n",
    "print('z-score:', z_score, 'p-value:', p_value)"
   ]
  },
  {
   "cell_type": "code",
   "execution_count": 89,
   "metadata": {},
   "outputs": [
    {
     "data": {
      "text/plain": [
       "0.09494168724097551"
      ]
     },
     "execution_count": 89,
     "metadata": {},
     "output_type": "execute_result"
    }
   ],
   "source": [
    "# Significance of z-score\n",
    "norm.cdf(z_score)"
   ]
  },
  {
   "cell_type": "code",
   "execution_count": 90,
   "metadata": {},
   "outputs": [
    {
     "data": {
      "text/plain": [
       "1.6448536269514722"
      ]
     },
     "execution_count": 90,
     "metadata": {},
     "output_type": "execute_result"
    }
   ],
   "source": [
    "# Displays our critical value at 95% confidence interval\n",
    "critical_value = norm.ppf(.95)\n",
    "critical_value"
   ]
  },
  {
   "cell_type": "code",
   "execution_count": 91,
   "metadata": {},
   "outputs": [
    {
     "name": "stderr",
     "output_type": "stream",
     "text": [
      "/home/x/PycharmProjects/untitled/nano_data/env3/lib/python3.7/site-packages/seaborn/distributions.py:2619: FutureWarning: `distplot` is a deprecated function and will be removed in a future version. Please adapt your code to use either `displot` (a figure-level function with similar flexibility) or `histplot` (an axes-level function for histograms).\n",
      "  warnings.warn(msg, FutureWarning)\n"
     ]
    },
    {
     "data": {
      "image/png": "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\n",
      "text/plain": [
       "<Figure size 432x288 with 1 Axes>"
      ]
     },
     "metadata": {},
     "output_type": "display_data"
    }
   ],
   "source": [
    "density = sns.distplot(np.random.normal(0, 1, 10000))\n",
    "density.axvline(x=z_score, color='black')\n",
    "density.axvline(x=critical_value, color='red');"
   ]
  },
  {
   "cell_type": "markdown",
   "metadata": {},
   "source": [
    "n. What do the z-score and p-value you computed in the previous question mean for the conversion rates of the old and new pages?  Do they agree with the findings in parts **j.** and **k.**?"
   ]
  },
  {
   "cell_type": "markdown",
   "metadata": {},
   "source": [
    "**RESPONSE**\n",
    ">The z-score of 1.311 is less than 1.960 which is the critical value at 95% confidence interval, so it falls within the confidence interval range of 95%. We fail to reject the null hypothesis and we observe that we do not have evidence that the new page leads to more conversions so we should stay with the old page."
   ]
  },
  {
   "cell_type": "markdown",
   "metadata": {},
   "source": [
    "<a id='regression'></a>\n",
    "### Part III - A regression approach\n",
    "\n",
    "`1.` In this final part, you will see that the result you acheived in the previous A/B test can also be acheived by performing regression.<br><br>\n",
    "\n",
    "a. Since each row is either a conversion or no conversion, what type of regression should you be performing in this case?"
   ]
  },
  {
   "cell_type": "markdown",
   "metadata": {},
   "source": [
    "**RESPONSE**\n",
    "> Since this is a Yes-No type of variable, Logistic Regression is appropriate."
   ]
  },
  {
   "cell_type": "markdown",
   "metadata": {},
   "source": [
    "b. The goal is to use **statsmodels** to fit the regression model you specified in part **a.** to see if there is a significant difference in conversion based on which page a customer receives.  However, you first need to create a column for the intercept, and create a dummy variable column for which page each user received.  Add an **intercept** column, as well as an **ab_page** column, which is 1 when an individual receives the **treatment** and 0 if **control**."
   ]
  },
  {
   "cell_type": "code",
   "execution_count": 92,
   "metadata": {},
   "outputs": [
    {
     "data": {
      "text/html": [
       "<div>\n",
       "<style scoped>\n",
       "    .dataframe tbody tr th:only-of-type {\n",
       "        vertical-align: middle;\n",
       "    }\n",
       "\n",
       "    .dataframe tbody tr th {\n",
       "        vertical-align: top;\n",
       "    }\n",
       "\n",
       "    .dataframe thead th {\n",
       "        text-align: right;\n",
       "    }\n",
       "</style>\n",
       "<table border=\"1\" class=\"dataframe\">\n",
       "  <thead>\n",
       "    <tr style=\"text-align: right;\">\n",
       "      <th></th>\n",
       "      <th>user_id</th>\n",
       "      <th>timestamp</th>\n",
       "      <th>group</th>\n",
       "      <th>landing_page</th>\n",
       "      <th>converted</th>\n",
       "      <th>intercept</th>\n",
       "      <th>ab_page</th>\n",
       "    </tr>\n",
       "  </thead>\n",
       "  <tbody>\n",
       "    <tr>\n",
       "      <th>0</th>\n",
       "      <td>851104</td>\n",
       "      <td>2017-01-21 22:11:48.556739</td>\n",
       "      <td>control</td>\n",
       "      <td>old_page</td>\n",
       "      <td>0</td>\n",
       "      <td>1</td>\n",
       "      <td>0</td>\n",
       "    </tr>\n",
       "    <tr>\n",
       "      <th>1</th>\n",
       "      <td>804228</td>\n",
       "      <td>2017-01-12 08:01:45.159739</td>\n",
       "      <td>control</td>\n",
       "      <td>old_page</td>\n",
       "      <td>0</td>\n",
       "      <td>1</td>\n",
       "      <td>0</td>\n",
       "    </tr>\n",
       "    <tr>\n",
       "      <th>2</th>\n",
       "      <td>661590</td>\n",
       "      <td>2017-01-11 16:55:06.154213</td>\n",
       "      <td>treatment</td>\n",
       "      <td>new_page</td>\n",
       "      <td>0</td>\n",
       "      <td>1</td>\n",
       "      <td>1</td>\n",
       "    </tr>\n",
       "    <tr>\n",
       "      <th>3</th>\n",
       "      <td>853541</td>\n",
       "      <td>2017-01-08 18:28:03.143765</td>\n",
       "      <td>treatment</td>\n",
       "      <td>new_page</td>\n",
       "      <td>0</td>\n",
       "      <td>1</td>\n",
       "      <td>1</td>\n",
       "    </tr>\n",
       "    <tr>\n",
       "      <th>4</th>\n",
       "      <td>864975</td>\n",
       "      <td>2017-01-21 01:52:26.210827</td>\n",
       "      <td>control</td>\n",
       "      <td>old_page</td>\n",
       "      <td>1</td>\n",
       "      <td>1</td>\n",
       "      <td>0</td>\n",
       "    </tr>\n",
       "  </tbody>\n",
       "</table>\n",
       "</div>"
      ],
      "text/plain": [
       "   user_id                   timestamp      group landing_page  converted  \\\n",
       "0   851104  2017-01-21 22:11:48.556739    control     old_page          0   \n",
       "1   804228  2017-01-12 08:01:45.159739    control     old_page          0   \n",
       "2   661590  2017-01-11 16:55:06.154213  treatment     new_page          0   \n",
       "3   853541  2017-01-08 18:28:03.143765  treatment     new_page          0   \n",
       "4   864975  2017-01-21 01:52:26.210827    control     old_page          1   \n",
       "\n",
       "   intercept  ab_page  \n",
       "0          1        0  \n",
       "1          1        0  \n",
       "2          1        1  \n",
       "3          1        1  \n",
       "4          1        0  "
      ]
     },
     "execution_count": 92,
     "metadata": {},
     "output_type": "execute_result"
    }
   ],
   "source": [
    "#adding an intercept column\n",
    "df2['intercept'] = 1\n",
    "\n",
    "#Create dummy variable column\n",
    "df2['ab_page'] = pd.get_dummies(df2['group'])['treatment']\n",
    "\n",
    "df2.head()"
   ]
  },
  {
   "cell_type": "markdown",
   "metadata": {},
   "source": [
    "c. Use **statsmodels** to import your regression model.  Instantiate the model, and fit the model using the two columns you created in part **b.** to predict whether or not an individual converts."
   ]
  },
  {
   "cell_type": "code",
   "execution_count": 93,
   "metadata": {},
   "outputs": [
    {
     "name": "stdout",
     "output_type": "stream",
     "text": [
      "Optimization terminated successfully.\n",
      "         Current function value: 0.366118\n",
      "         Iterations 6\n"
     ]
    }
   ],
   "source": [
    "log_model = sm.Logit(df2['converted'], df2[['intercept', 'ab_page']])\n",
    "results = log_model.fit()"
   ]
  },
  {
   "cell_type": "markdown",
   "metadata": {},
   "source": [
    "d. Provide the summary of your model below, and use it as necessary to answer the following questions."
   ]
  },
  {
   "cell_type": "code",
   "execution_count": 94,
   "metadata": {},
   "outputs": [
    {
     "data": {
      "text/html": [
       "<table class=\"simpletable\">\n",
       "<caption>Logit Regression Results</caption>\n",
       "<tr>\n",
       "  <th>Dep. Variable:</th>       <td>converted</td>    <th>  No. Observations:  </th>   <td>290584</td>   \n",
       "</tr>\n",
       "<tr>\n",
       "  <th>Model:</th>                 <td>Logit</td>      <th>  Df Residuals:      </th>   <td>290582</td>   \n",
       "</tr>\n",
       "<tr>\n",
       "  <th>Method:</th>                 <td>MLE</td>       <th>  Df Model:          </th>   <td>     1</td>   \n",
       "</tr>\n",
       "<tr>\n",
       "  <th>Date:</th>            <td>Wed, 06 Oct 2021</td> <th>  Pseudo R-squ.:     </th>  <td>8.077e-06</td> \n",
       "</tr>\n",
       "<tr>\n",
       "  <th>Time:</th>                <td>20:54:59</td>     <th>  Log-Likelihood:    </th> <td>-1.0639e+05</td>\n",
       "</tr>\n",
       "<tr>\n",
       "  <th>converged:</th>             <td>True</td>       <th>  LL-Null:           </th> <td>-1.0639e+05</td>\n",
       "</tr>\n",
       "<tr>\n",
       "  <th>Covariance Type:</th>     <td>nonrobust</td>    <th>  LLR p-value:       </th>   <td>0.1899</td>   \n",
       "</tr>\n",
       "</table>\n",
       "<table class=\"simpletable\">\n",
       "<tr>\n",
       "      <td></td>         <th>coef</th>     <th>std err</th>      <th>z</th>      <th>P>|z|</th>  <th>[0.025</th>    <th>0.975]</th>  \n",
       "</tr>\n",
       "<tr>\n",
       "  <th>intercept</th> <td>   -1.9888</td> <td>    0.008</td> <td> -246.669</td> <td> 0.000</td> <td>   -2.005</td> <td>   -1.973</td>\n",
       "</tr>\n",
       "<tr>\n",
       "  <th>ab_page</th>   <td>   -0.0150</td> <td>    0.011</td> <td>   -1.311</td> <td> 0.190</td> <td>   -0.037</td> <td>    0.007</td>\n",
       "</tr>\n",
       "</table>"
      ],
      "text/plain": [
       "<class 'statsmodels.iolib.summary.Summary'>\n",
       "\"\"\"\n",
       "                           Logit Regression Results                           \n",
       "==============================================================================\n",
       "Dep. Variable:              converted   No. Observations:               290584\n",
       "Model:                          Logit   Df Residuals:                   290582\n",
       "Method:                           MLE   Df Model:                            1\n",
       "Date:                Wed, 06 Oct 2021   Pseudo R-squ.:               8.077e-06\n",
       "Time:                        20:54:59   Log-Likelihood:            -1.0639e+05\n",
       "converged:                       True   LL-Null:                   -1.0639e+05\n",
       "Covariance Type:            nonrobust   LLR p-value:                    0.1899\n",
       "==============================================================================\n",
       "                 coef    std err          z      P>|z|      [0.025      0.975]\n",
       "------------------------------------------------------------------------------\n",
       "intercept     -1.9888      0.008   -246.669      0.000      -2.005      -1.973\n",
       "ab_page       -0.0150      0.011     -1.311      0.190      -0.037       0.007\n",
       "==============================================================================\n",
       "\"\"\""
      ]
     },
     "execution_count": 94,
     "metadata": {},
     "output_type": "execute_result"
    }
   ],
   "source": [
    "results.summary()"
   ]
  },
  {
   "cell_type": "markdown",
   "metadata": {},
   "source": [
    "e. What is the p-value associated with **ab_page**? Why does it differ from the value you found in **Part II**?<br><br>  **Hint**: What are the null and alternative hypotheses associated with your regression model, and how do they compare to the null and alternative hypotheses in the **Part II**?"
   ]
  },
  {
   "cell_type": "markdown",
   "metadata": {},
   "source": [
    "**RESPONSE**\n",
    "\n",
    "Our hypotheses:\n",
    "\n",
    "$H_{0}$ : $p_{new}$ - $p_{old}$ = 0\n",
    "\n",
    "$H_{1}$ : $p_{new}$ - $p_{old}$ != 0\n",
    "\n",
    "\n",
    "#### P-value\n",
    "\n",
    "The P-value is 0.190 and is the result of the logistic regression.\n",
    "While this value is above an $\\alpha$ level of 0.05, it is different since we have performed a two-tailed test.\n",
    "We fail to reject the null in this situation.\n",
    "\n",
    "#### Observations\n",
    "\n",
    "It would be advantageous to consider other factors to add to the regression model. The multiple linear regression model may help us determine the relative influence of one or more predictor variables to the response value. Other factors might include the country a user originates from or the amount of time a user spends on the website.\n",
    "\n",
    "However, there are still drawbacks to adding additional terms. We should consider the potential problems like multi-collinearity when adding addition variables. As well,non-linearity of the response-predictor relationships may occur when we add multiple factors."
   ]
  },
  {
   "cell_type": "markdown",
   "metadata": {},
   "source": [
    "f. Now, you are considering other things that might influence whether or not an individual converts.  Discuss why it is a good idea to consider other factors to add into your regression model.  Are there any disadvantages to adding additional terms into your regression model?"
   ]
  },
  {
   "cell_type": "markdown",
   "metadata": {},
   "source": [
    "**RESPONSE**\n",
    "> Considering other factors is a good idea as they may contribute to the significance of our test results and lead to more accurate decisions. \n",
    "One disadvantage of adding additional terms into the regression model is Simpson's Paradox. This is where the combined impact of different variables may disappear or reverse when these variables are combined, but appear where these variables are tested individually."
   ]
  },
  {
   "cell_type": "markdown",
   "metadata": {},
   "source": [
    "g. Now along with testing if the conversion rate changes for different pages, also add an effect based on which country a user lives. You will need to read in the **countries.csv** dataset and merge together your datasets on the approporiate rows.  [Here](https://pandas.pydata.org/pandas-docs/stable/generated/pandas.DataFrame.join.html) are the docs for joining tables. \n",
    "\n",
    "Does it appear that country had an impact on conversion?  Don't forget to create dummy variables for these country columns - **Hint: You will need two columns for the three dummy variables.** Provide the statistical output as well as a written response to answer this question."
   ]
  },
  {
   "cell_type": "markdown",
   "metadata": {},
   "source": [
    "**RESPONSE**: The country that a user is in does not affect the conversion rate. This can be determined by figuring out the conversion rate of each of the countries. US: 0.1195, UK: 0.1206, CA: 0.1153. As they are approximately, we fail to reject the null hypothesis."
   ]
  },
  {
   "cell_type": "code",
   "execution_count": 95,
   "metadata": {},
   "outputs": [
    {
     "data": {
      "text/html": [
       "<div>\n",
       "<style scoped>\n",
       "    .dataframe tbody tr th:only-of-type {\n",
       "        vertical-align: middle;\n",
       "    }\n",
       "\n",
       "    .dataframe tbody tr th {\n",
       "        vertical-align: top;\n",
       "    }\n",
       "\n",
       "    .dataframe thead th {\n",
       "        text-align: right;\n",
       "    }\n",
       "</style>\n",
       "<table border=\"1\" class=\"dataframe\">\n",
       "  <thead>\n",
       "    <tr style=\"text-align: right;\">\n",
       "      <th></th>\n",
       "      <th>country</th>\n",
       "      <th>timestamp</th>\n",
       "      <th>group</th>\n",
       "      <th>landing_page</th>\n",
       "      <th>converted</th>\n",
       "      <th>intercept</th>\n",
       "      <th>ab_page</th>\n",
       "    </tr>\n",
       "    <tr>\n",
       "      <th>user_id</th>\n",
       "      <th></th>\n",
       "      <th></th>\n",
       "      <th></th>\n",
       "      <th></th>\n",
       "      <th></th>\n",
       "      <th></th>\n",
       "      <th></th>\n",
       "    </tr>\n",
       "  </thead>\n",
       "  <tbody>\n",
       "    <tr>\n",
       "      <th>834778</th>\n",
       "      <td>UK</td>\n",
       "      <td>2017-01-14 23:08:43.304998</td>\n",
       "      <td>control</td>\n",
       "      <td>old_page</td>\n",
       "      <td>0</td>\n",
       "      <td>1</td>\n",
       "      <td>0</td>\n",
       "    </tr>\n",
       "    <tr>\n",
       "      <th>928468</th>\n",
       "      <td>US</td>\n",
       "      <td>2017-01-23 14:44:16.387854</td>\n",
       "      <td>treatment</td>\n",
       "      <td>new_page</td>\n",
       "      <td>0</td>\n",
       "      <td>1</td>\n",
       "      <td>1</td>\n",
       "    </tr>\n",
       "    <tr>\n",
       "      <th>822059</th>\n",
       "      <td>UK</td>\n",
       "      <td>2017-01-16 14:04:14.719771</td>\n",
       "      <td>treatment</td>\n",
       "      <td>new_page</td>\n",
       "      <td>1</td>\n",
       "      <td>1</td>\n",
       "      <td>1</td>\n",
       "    </tr>\n",
       "    <tr>\n",
       "      <th>711597</th>\n",
       "      <td>UK</td>\n",
       "      <td>2017-01-22 03:14:24.763511</td>\n",
       "      <td>control</td>\n",
       "      <td>old_page</td>\n",
       "      <td>0</td>\n",
       "      <td>1</td>\n",
       "      <td>0</td>\n",
       "    </tr>\n",
       "    <tr>\n",
       "      <th>710616</th>\n",
       "      <td>UK</td>\n",
       "      <td>2017-01-16 13:14:44.000513</td>\n",
       "      <td>treatment</td>\n",
       "      <td>new_page</td>\n",
       "      <td>0</td>\n",
       "      <td>1</td>\n",
       "      <td>1</td>\n",
       "    </tr>\n",
       "  </tbody>\n",
       "</table>\n",
       "</div>"
      ],
      "text/plain": [
       "        country                   timestamp      group landing_page  \\\n",
       "user_id                                                               \n",
       "834778       UK  2017-01-14 23:08:43.304998    control     old_page   \n",
       "928468       US  2017-01-23 14:44:16.387854  treatment     new_page   \n",
       "822059       UK  2017-01-16 14:04:14.719771  treatment     new_page   \n",
       "711597       UK  2017-01-22 03:14:24.763511    control     old_page   \n",
       "710616       UK  2017-01-16 13:14:44.000513  treatment     new_page   \n",
       "\n",
       "         converted  intercept  ab_page  \n",
       "user_id                                 \n",
       "834778           0          1        0  \n",
       "928468           0          1        1  \n",
       "822059           1          1        1  \n",
       "711597           0          1        0  \n",
       "710616           0          1        1  "
      ]
     },
     "execution_count": 95,
     "metadata": {},
     "output_type": "execute_result"
    }
   ],
   "source": [
    "countries_df = pd.read_csv('./countries.csv')\n",
    "df_new = countries_df.set_index('user_id').join(df2.set_index('user_id'), how='inner')\n",
    "df_new.head()"
   ]
  },
  {
   "cell_type": "code",
   "execution_count": 96,
   "metadata": {},
   "outputs": [
    {
     "data": {
      "text/plain": [
       "array(['UK', 'US', 'CA'], dtype=object)"
      ]
     },
     "execution_count": 96,
     "metadata": {},
     "output_type": "execute_result"
    }
   ],
   "source": [
    "# Find unique values of country\n",
    "df_new['country'].unique()"
   ]
  },
  {
   "cell_type": "code",
   "execution_count": 97,
   "metadata": {},
   "outputs": [
    {
     "data": {
      "text/plain": [
       "US    203619\n",
       "UK     72466\n",
       "CA     14499\n",
       "Name: country, dtype: int64"
      ]
     },
     "execution_count": 97,
     "metadata": {},
     "output_type": "execute_result"
    }
   ],
   "source": [
    "# Since the majority of customers are from the US it can be used as a reference\n",
    "df_new['country'].value_counts()"
   ]
  },
  {
   "cell_type": "markdown",
   "metadata": {},
   "source": [
    "### Create the necessary dummy variables"
   ]
  },
  {
   "cell_type": "code",
   "execution_count": 98,
   "metadata": {},
   "outputs": [
    {
     "data": {
      "text/html": [
       "<div>\n",
       "<style scoped>\n",
       "    .dataframe tbody tr th:only-of-type {\n",
       "        vertical-align: middle;\n",
       "    }\n",
       "\n",
       "    .dataframe tbody tr th {\n",
       "        vertical-align: top;\n",
       "    }\n",
       "\n",
       "    .dataframe thead th {\n",
       "        text-align: right;\n",
       "    }\n",
       "</style>\n",
       "<table border=\"1\" class=\"dataframe\">\n",
       "  <thead>\n",
       "    <tr style=\"text-align: right;\">\n",
       "      <th></th>\n",
       "      <th>country</th>\n",
       "      <th>timestamp</th>\n",
       "      <th>group</th>\n",
       "      <th>landing_page</th>\n",
       "      <th>converted</th>\n",
       "      <th>intercept</th>\n",
       "      <th>ab_page</th>\n",
       "      <th>CA</th>\n",
       "      <th>UK</th>\n",
       "      <th>US</th>\n",
       "    </tr>\n",
       "    <tr>\n",
       "      <th>user_id</th>\n",
       "      <th></th>\n",
       "      <th></th>\n",
       "      <th></th>\n",
       "      <th></th>\n",
       "      <th></th>\n",
       "      <th></th>\n",
       "      <th></th>\n",
       "      <th></th>\n",
       "      <th></th>\n",
       "      <th></th>\n",
       "    </tr>\n",
       "  </thead>\n",
       "  <tbody>\n",
       "    <tr>\n",
       "      <th>834778</th>\n",
       "      <td>UK</td>\n",
       "      <td>2017-01-14 23:08:43.304998</td>\n",
       "      <td>control</td>\n",
       "      <td>old_page</td>\n",
       "      <td>0</td>\n",
       "      <td>1</td>\n",
       "      <td>0</td>\n",
       "      <td>0</td>\n",
       "      <td>1</td>\n",
       "      <td>0</td>\n",
       "    </tr>\n",
       "    <tr>\n",
       "      <th>928468</th>\n",
       "      <td>US</td>\n",
       "      <td>2017-01-23 14:44:16.387854</td>\n",
       "      <td>treatment</td>\n",
       "      <td>new_page</td>\n",
       "      <td>0</td>\n",
       "      <td>1</td>\n",
       "      <td>1</td>\n",
       "      <td>0</td>\n",
       "      <td>0</td>\n",
       "      <td>1</td>\n",
       "    </tr>\n",
       "    <tr>\n",
       "      <th>822059</th>\n",
       "      <td>UK</td>\n",
       "      <td>2017-01-16 14:04:14.719771</td>\n",
       "      <td>treatment</td>\n",
       "      <td>new_page</td>\n",
       "      <td>1</td>\n",
       "      <td>1</td>\n",
       "      <td>1</td>\n",
       "      <td>0</td>\n",
       "      <td>1</td>\n",
       "      <td>0</td>\n",
       "    </tr>\n",
       "    <tr>\n",
       "      <th>711597</th>\n",
       "      <td>UK</td>\n",
       "      <td>2017-01-22 03:14:24.763511</td>\n",
       "      <td>control</td>\n",
       "      <td>old_page</td>\n",
       "      <td>0</td>\n",
       "      <td>1</td>\n",
       "      <td>0</td>\n",
       "      <td>0</td>\n",
       "      <td>1</td>\n",
       "      <td>0</td>\n",
       "    </tr>\n",
       "    <tr>\n",
       "      <th>710616</th>\n",
       "      <td>UK</td>\n",
       "      <td>2017-01-16 13:14:44.000513</td>\n",
       "      <td>treatment</td>\n",
       "      <td>new_page</td>\n",
       "      <td>0</td>\n",
       "      <td>1</td>\n",
       "      <td>1</td>\n",
       "      <td>0</td>\n",
       "      <td>1</td>\n",
       "      <td>0</td>\n",
       "    </tr>\n",
       "  </tbody>\n",
       "</table>\n",
       "</div>"
      ],
      "text/plain": [
       "        country                   timestamp      group landing_page  \\\n",
       "user_id                                                               \n",
       "834778       UK  2017-01-14 23:08:43.304998    control     old_page   \n",
       "928468       US  2017-01-23 14:44:16.387854  treatment     new_page   \n",
       "822059       UK  2017-01-16 14:04:14.719771  treatment     new_page   \n",
       "711597       UK  2017-01-22 03:14:24.763511    control     old_page   \n",
       "710616       UK  2017-01-16 13:14:44.000513  treatment     new_page   \n",
       "\n",
       "         converted  intercept  ab_page  CA  UK  US  \n",
       "user_id                                             \n",
       "834778           0          1        0   0   1   0  \n",
       "928468           0          1        1   0   0   1  \n",
       "822059           1          1        1   0   1   0  \n",
       "711597           0          1        0   0   1   0  \n",
       "710616           0          1        1   0   1   0  "
      ]
     },
     "execution_count": 98,
     "metadata": {},
     "output_type": "execute_result"
    }
   ],
   "source": [
    "# Create dummy variables\n",
    "df_new[['CA', 'UK', 'US']] = pd.get_dummies(df_new['country'])\n",
    "df_new.head()"
   ]
  },
  {
   "cell_type": "markdown",
   "metadata": {},
   "source": [
    "h. Though you have now looked at the individual factors of country and page on conversion, we would now like to look at an interaction between page and country to see if there significant effects on conversion.  Create the necessary additional columns, and fit the new model.  \n",
    "\n",
    "Provide the summary results, and your conclusions based on the results."
   ]
  },
  {
   "cell_type": "code",
   "execution_count": 105,
   "metadata": {},
   "outputs": [
    {
     "data": {
      "text/html": [
       "<div>\n",
       "<style scoped>\n",
       "    .dataframe tbody tr th:only-of-type {\n",
       "        vertical-align: middle;\n",
       "    }\n",
       "\n",
       "    .dataframe tbody tr th {\n",
       "        vertical-align: top;\n",
       "    }\n",
       "\n",
       "    .dataframe thead th {\n",
       "        text-align: right;\n",
       "    }\n",
       "</style>\n",
       "<table border=\"1\" class=\"dataframe\">\n",
       "  <thead>\n",
       "    <tr style=\"text-align: right;\">\n",
       "      <th></th>\n",
       "      <th>country</th>\n",
       "      <th>timestamp</th>\n",
       "      <th>group</th>\n",
       "      <th>landing_page</th>\n",
       "      <th>converted</th>\n",
       "      <th>intercept</th>\n",
       "      <th>ab_page</th>\n",
       "      <th>CA</th>\n",
       "      <th>UK</th>\n",
       "      <th>US</th>\n",
       "      <th>US_ab_page</th>\n",
       "      <th>UK_ab_page</th>\n",
       "      <th>CA_ab_page</th>\n",
       "      <th>CA_page</th>\n",
       "      <th>UK_page</th>\n",
       "    </tr>\n",
       "    <tr>\n",
       "      <th>user_id</th>\n",
       "      <th></th>\n",
       "      <th></th>\n",
       "      <th></th>\n",
       "      <th></th>\n",
       "      <th></th>\n",
       "      <th></th>\n",
       "      <th></th>\n",
       "      <th></th>\n",
       "      <th></th>\n",
       "      <th></th>\n",
       "      <th></th>\n",
       "      <th></th>\n",
       "      <th></th>\n",
       "      <th></th>\n",
       "      <th></th>\n",
       "    </tr>\n",
       "  </thead>\n",
       "  <tbody>\n",
       "    <tr>\n",
       "      <th>834778</th>\n",
       "      <td>UK</td>\n",
       "      <td>2017-01-14 23:08:43.304998</td>\n",
       "      <td>control</td>\n",
       "      <td>old_page</td>\n",
       "      <td>0</td>\n",
       "      <td>1</td>\n",
       "      <td>0</td>\n",
       "      <td>0</td>\n",
       "      <td>1</td>\n",
       "      <td>0</td>\n",
       "      <td>0</td>\n",
       "      <td>0</td>\n",
       "      <td>0</td>\n",
       "      <td>0</td>\n",
       "      <td>0</td>\n",
       "    </tr>\n",
       "    <tr>\n",
       "      <th>928468</th>\n",
       "      <td>US</td>\n",
       "      <td>2017-01-23 14:44:16.387854</td>\n",
       "      <td>treatment</td>\n",
       "      <td>new_page</td>\n",
       "      <td>0</td>\n",
       "      <td>1</td>\n",
       "      <td>1</td>\n",
       "      <td>0</td>\n",
       "      <td>0</td>\n",
       "      <td>1</td>\n",
       "      <td>1</td>\n",
       "      <td>0</td>\n",
       "      <td>0</td>\n",
       "      <td>0</td>\n",
       "      <td>0</td>\n",
       "    </tr>\n",
       "    <tr>\n",
       "      <th>822059</th>\n",
       "      <td>UK</td>\n",
       "      <td>2017-01-16 14:04:14.719771</td>\n",
       "      <td>treatment</td>\n",
       "      <td>new_page</td>\n",
       "      <td>1</td>\n",
       "      <td>1</td>\n",
       "      <td>1</td>\n",
       "      <td>0</td>\n",
       "      <td>1</td>\n",
       "      <td>0</td>\n",
       "      <td>0</td>\n",
       "      <td>1</td>\n",
       "      <td>0</td>\n",
       "      <td>0</td>\n",
       "      <td>1</td>\n",
       "    </tr>\n",
       "    <tr>\n",
       "      <th>711597</th>\n",
       "      <td>UK</td>\n",
       "      <td>2017-01-22 03:14:24.763511</td>\n",
       "      <td>control</td>\n",
       "      <td>old_page</td>\n",
       "      <td>0</td>\n",
       "      <td>1</td>\n",
       "      <td>0</td>\n",
       "      <td>0</td>\n",
       "      <td>1</td>\n",
       "      <td>0</td>\n",
       "      <td>0</td>\n",
       "      <td>0</td>\n",
       "      <td>0</td>\n",
       "      <td>0</td>\n",
       "      <td>0</td>\n",
       "    </tr>\n",
       "    <tr>\n",
       "      <th>710616</th>\n",
       "      <td>UK</td>\n",
       "      <td>2017-01-16 13:14:44.000513</td>\n",
       "      <td>treatment</td>\n",
       "      <td>new_page</td>\n",
       "      <td>0</td>\n",
       "      <td>1</td>\n",
       "      <td>1</td>\n",
       "      <td>0</td>\n",
       "      <td>1</td>\n",
       "      <td>0</td>\n",
       "      <td>0</td>\n",
       "      <td>1</td>\n",
       "      <td>0</td>\n",
       "      <td>0</td>\n",
       "      <td>1</td>\n",
       "    </tr>\n",
       "  </tbody>\n",
       "</table>\n",
       "</div>"
      ],
      "text/plain": [
       "        country                   timestamp      group landing_page  \\\n",
       "user_id                                                               \n",
       "834778       UK  2017-01-14 23:08:43.304998    control     old_page   \n",
       "928468       US  2017-01-23 14:44:16.387854  treatment     new_page   \n",
       "822059       UK  2017-01-16 14:04:14.719771  treatment     new_page   \n",
       "711597       UK  2017-01-22 03:14:24.763511    control     old_page   \n",
       "710616       UK  2017-01-16 13:14:44.000513  treatment     new_page   \n",
       "\n",
       "         converted  intercept  ab_page  CA  UK  US  US_ab_page  UK_ab_page  \\\n",
       "user_id                                                                      \n",
       "834778           0          1        0   0   1   0           0           0   \n",
       "928468           0          1        1   0   0   1           1           0   \n",
       "822059           1          1        1   0   1   0           0           1   \n",
       "711597           0          1        0   0   1   0           0           0   \n",
       "710616           0          1        1   0   1   0           0           1   \n",
       "\n",
       "         CA_ab_page  CA_page  UK_page  \n",
       "user_id                                \n",
       "834778            0        0        0  \n",
       "928468            0        0        0  \n",
       "822059            0        0        1  \n",
       "711597            0        0        0  \n",
       "710616            0        0        1  "
      ]
     },
     "execution_count": 105,
     "metadata": {},
     "output_type": "execute_result"
    }
   ],
   "source": [
    "df_new['CA_page'] = df_new['CA'] * df_new['ab_page']\n",
    "df_new['UK_page'] = df_new['UK'] * df_new['ab_page']\n",
    "df_new.head()"
   ]
  },
  {
   "cell_type": "code",
   "execution_count": 106,
   "metadata": {},
   "outputs": [
    {
     "name": "stdout",
     "output_type": "stream",
     "text": [
      "Optimization terminated successfully.\n",
      "         Current function value: 0.366109\n",
      "         Iterations 6\n"
     ]
    },
    {
     "data": {
      "text/html": [
       "<table class=\"simpletable\">\n",
       "<caption>Logit Regression Results</caption>\n",
       "<tr>\n",
       "  <th>Dep. Variable:</th>       <td>converted</td>    <th>  No. Observations:  </th>   <td>290584</td>   \n",
       "</tr>\n",
       "<tr>\n",
       "  <th>Model:</th>                 <td>Logit</td>      <th>  Df Residuals:      </th>   <td>290578</td>   \n",
       "</tr>\n",
       "<tr>\n",
       "  <th>Method:</th>                 <td>MLE</td>       <th>  Df Model:          </th>   <td>     5</td>   \n",
       "</tr>\n",
       "<tr>\n",
       "  <th>Date:</th>            <td>Wed, 06 Oct 2021</td> <th>  Pseudo R-squ.:     </th>  <td>3.482e-05</td> \n",
       "</tr>\n",
       "<tr>\n",
       "  <th>Time:</th>                <td>20:58:09</td>     <th>  Log-Likelihood:    </th> <td>-1.0639e+05</td>\n",
       "</tr>\n",
       "<tr>\n",
       "  <th>converged:</th>             <td>True</td>       <th>  LL-Null:           </th> <td>-1.0639e+05</td>\n",
       "</tr>\n",
       "<tr>\n",
       "  <th>Covariance Type:</th>     <td>nonrobust</td>    <th>  LLR p-value:       </th>   <td>0.1920</td>   \n",
       "</tr>\n",
       "</table>\n",
       "<table class=\"simpletable\">\n",
       "<tr>\n",
       "      <td></td>         <th>coef</th>     <th>std err</th>      <th>z</th>      <th>P>|z|</th>  <th>[0.025</th>    <th>0.975]</th>  \n",
       "</tr>\n",
       "<tr>\n",
       "  <th>intercept</th> <td>   -1.9865</td> <td>    0.010</td> <td> -206.344</td> <td> 0.000</td> <td>   -2.005</td> <td>   -1.968</td>\n",
       "</tr>\n",
       "<tr>\n",
       "  <th>ab_page</th>   <td>   -0.0206</td> <td>    0.014</td> <td>   -1.505</td> <td> 0.132</td> <td>   -0.047</td> <td>    0.006</td>\n",
       "</tr>\n",
       "<tr>\n",
       "  <th>CA</th>        <td>   -0.0175</td> <td>    0.038</td> <td>   -0.465</td> <td> 0.642</td> <td>   -0.091</td> <td>    0.056</td>\n",
       "</tr>\n",
       "<tr>\n",
       "  <th>UK</th>        <td>   -0.0057</td> <td>    0.019</td> <td>   -0.306</td> <td> 0.760</td> <td>   -0.043</td> <td>    0.031</td>\n",
       "</tr>\n",
       "<tr>\n",
       "  <th>CA_page</th>   <td>   -0.0469</td> <td>    0.054</td> <td>   -0.872</td> <td> 0.383</td> <td>   -0.152</td> <td>    0.059</td>\n",
       "</tr>\n",
       "<tr>\n",
       "  <th>UK_page</th>   <td>    0.0314</td> <td>    0.027</td> <td>    1.181</td> <td> 0.238</td> <td>   -0.021</td> <td>    0.084</td>\n",
       "</tr>\n",
       "</table>"
      ],
      "text/plain": [
       "<class 'statsmodels.iolib.summary.Summary'>\n",
       "\"\"\"\n",
       "                           Logit Regression Results                           \n",
       "==============================================================================\n",
       "Dep. Variable:              converted   No. Observations:               290584\n",
       "Model:                          Logit   Df Residuals:                   290578\n",
       "Method:                           MLE   Df Model:                            5\n",
       "Date:                Wed, 06 Oct 2021   Pseudo R-squ.:               3.482e-05\n",
       "Time:                        20:58:09   Log-Likelihood:            -1.0639e+05\n",
       "converged:                       True   LL-Null:                   -1.0639e+05\n",
       "Covariance Type:            nonrobust   LLR p-value:                    0.1920\n",
       "==============================================================================\n",
       "                 coef    std err          z      P>|z|      [0.025      0.975]\n",
       "------------------------------------------------------------------------------\n",
       "intercept     -1.9865      0.010   -206.344      0.000      -2.005      -1.968\n",
       "ab_page       -0.0206      0.014     -1.505      0.132      -0.047       0.006\n",
       "CA            -0.0175      0.038     -0.465      0.642      -0.091       0.056\n",
       "UK            -0.0057      0.019     -0.306      0.760      -0.043       0.031\n",
       "CA_page       -0.0469      0.054     -0.872      0.383      -0.152       0.059\n",
       "UK_page        0.0314      0.027      1.181      0.238      -0.021       0.084\n",
       "==============================================================================\n",
       "\"\"\""
      ]
     },
     "execution_count": 106,
     "metadata": {},
     "output_type": "execute_result"
    }
   ],
   "source": [
    "### Fit Your Linear Model And Obtain the Results\n",
    "log_mod = sm.Logit(df_new['converted'], df_new[['intercept', 'ab_page', 'CA', 'UK', 'CA_page', 'UK_page']])\n",
    "result = log_mod.fit()\n",
    "result.summary()"
   ]
  },
  {
   "cell_type": "markdown",
   "metadata": {},
   "source": [
    "### Observations and Conclusion"
   ]
  },
  {
   "cell_type": "markdown",
   "metadata": {},
   "source": [
    "**RESULTS**\n",
    "\n",
    "After utilising some interaction variables in the logistic regression model, there continues to be no variable with significant p-values. With that, we fail to reject the null hypothesis. There is insufficient evidence to suggest that there is an interaction between country and page that will predict whether a user converts.\n",
    "\n",
    "After our data analysis, based on the information available to us, we conclude there is no significant effect on the conversion, regardless of which countries users are in. we do not have sufficient evidence to suggest that the new page will result in more conversions than the old page."
   ]
  }
